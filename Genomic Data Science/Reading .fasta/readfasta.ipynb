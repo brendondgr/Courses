{
 "cells": [
  {
   "cell_type": "markdown",
   "metadata": {},
   "source": [
    "#### Imports"
   ]
  },
  {
   "cell_type": "code",
   "execution_count": 139,
   "metadata": {},
   "outputs": [],
   "source": [
    "# Load in Libraries to read in a fasta file\n",
    "from Bio import SeqIO\n",
    "import sys\n",
    "import numpy as np\n",
    "import pandas as pd"
   ]
  },
  {
   "cell_type": "markdown",
   "metadata": {},
   "source": [
    "#### Read in the File"
   ]
  },
  {
   "cell_type": "code",
   "execution_count": 152,
   "metadata": {},
   "outputs": [
    {
     "data": {
      "text/plain": [
       "<Bio.SeqIO.FastaIO.FastaIterator at 0x17a854c42d0>"
      ]
     },
     "execution_count": 152,
     "metadata": {},
     "output_type": "execute_result"
    }
   ],
   "source": [
    "# Read in \"dna.example.fasta\" file, in current directory\n",
    "sequence = SeqIO.parse(\"dna2.fasta\", \"fasta\")\n",
    "sequence"
   ]
  },
  {
   "cell_type": "markdown",
   "metadata": {},
   "source": [
    "#### Count the number of records in file"
   ]
  },
  {
   "cell_type": "code",
   "execution_count": 153,
   "metadata": {},
   "outputs": [
    {
     "name": "stdout",
     "output_type": "stream",
     "text": [
      "There are 18 sequences in the file\n"
     ]
    }
   ],
   "source": [
    "# Print out how many sequences are in the file\n",
    "count = len(list(sequence))\n",
    "print(\"There are\", count, \"sequences in the file\")"
   ]
  },
  {
   "cell_type": "markdown",
   "metadata": {},
   "source": [
    "#### List of Nucleotide Lengths"
   ]
  },
  {
   "cell_type": "code",
   "execution_count": 154,
   "metadata": {},
   "outputs": [
    {
     "name": "stderr",
     "output_type": "stream",
     "text": [
      "C:\\Users\\Brendito\\AppData\\Local\\Temp\\ipykernel_11136\\842254481.py:15: FutureWarning: The behavior of DataFrame concatenation with empty or all-NA entries is deprecated. In a future version, this will no longer exclude empty or all-NA columns when determining the result dtypes. To retain the old behavior, exclude the relevant entries before the concat operation.\n",
      "  df = pd.concat([df, pd.DataFrame({'Sequence': [sequence1],'Sequence ID': [seq_id], 'Sequence Length': [seq_length], 'GC Content': [gc_content]})], ignore_index=True)\n"
     ]
    }
   ],
   "source": [
    "# Create an empty dataframe to store sequence information:\n",
    "# Sequence ID, Sequence Length, GC Content\n",
    "df = pd.DataFrame(columns=['Sequence', 'Sequence ID', 'Sequence Length', 'GC Content'])\n",
    "\n",
    "for seq_record in SeqIO.parse(\"dna.example.fasta\", \"fasta\"):\n",
    "    # Get Sequence\n",
    "    sequence1 = str(seq_record.seq)\n",
    "    # Get the sequence ID\n",
    "    seq_id = seq_record.id\n",
    "    # Get the sequence length\n",
    "    seq_length = len(seq_record.seq)\n",
    "    # Get the GC content\n",
    "    gc_content = (seq_record.seq.count(\"G\") + seq_record.seq.count(\"C\")) / seq_length * 100\n",
    "    # Add the information to the dataframe\n",
    "    df = pd.concat([df, pd.DataFrame({'Sequence': [sequence1],'Sequence ID': [seq_id], 'Sequence Length': [seq_length], 'GC Content': [gc_content]})], ignore_index=True)"
   ]
  },
  {
   "cell_type": "code",
   "execution_count": 155,
   "metadata": {},
   "outputs": [
    {
     "name": "stdout",
     "output_type": "stream",
     "text": [
      "                                            Sequence  \\\n",
      "0  TCGGGCGAAGGCGGCAGCAAGTCGTCCACGCGCAGCGCGGCACCGC...   \n",
      "1  ATTGGGGAGGAGGCGAGTTGAGCGGCGGCAGTTCGCCTGCGTGCGC...   \n",
      "2  GACCTTGCATCGGCTGATCGCCGAGCGTGCCGACGTATTCATTCAC...   \n",
      "3  GCCCGGCGATTTGACGTCTGCAGCCTCACGTCCAAACTCAATTTGA...   \n",
      "4  GATCAGCCCCGCATACGCGTACGCGCGTGCGACGCCGAAGAGCGTC...   \n",
      "\n",
      "                      Sequence ID Sequence Length  GC Content  \n",
      "0   gi|142022655|gb|EQ086233.1|43             990   60.606061  \n",
      "1  gi|142022655|gb|EQ086233.1|160             724   60.635359  \n",
      "2   gi|142022655|gb|EQ086233.1|41            3080   61.428571  \n",
      "3  gi|142022655|gb|EQ086233.1|221            2863   56.514146  \n",
      "4  gi|142022655|gb|EQ086233.1|294            3832   67.327766  \n"
     ]
    }
   ],
   "source": [
    "# Print out Head\n",
    "print(df.head())"
   ]
  },
  {
   "cell_type": "code",
   "execution_count": 156,
   "metadata": {},
   "outputs": [
    {
     "name": "stdout",
     "output_type": "stream",
     "text": [
      "The minimum sequence length is: 512\n",
      "The maximum sequence length is: 4805\n"
     ]
    }
   ],
   "source": [
    "# Print out the Minimum and the Maximum Sequence Length\n",
    "print(\"The minimum sequence length is:\", df['Sequence Length'].min())\n",
    "print(\"The maximum sequence length is:\", df['Sequence Length'].max())"
   ]
  },
  {
   "cell_type": "markdown",
   "metadata": {},
   "source": [
    "#### Open Reading Frames (ORFs)"
   ]
  },
  {
   "cell_type": "code",
   "execution_count": 157,
   "metadata": {},
   "outputs": [],
   "source": [
    "def find_orfs(sequence, frame):\n",
    "    start_codon = \"ATG\"\n",
    "    stop_codons = {\"TAA\", \"TAG\", \"TGA\"}\n",
    "    orfs = []\n",
    "    seq_len = len(sequence)\n",
    "    \n",
    "    for i in range(frame - 1, seq_len, 3):\n",
    "        codon = sequence[i:i+3]\n",
    "        if codon == start_codon:\n",
    "            for j in range(i, seq_len, 3):\n",
    "                stop_codon = sequence[j:j+3]\n",
    "                if stop_codon in stop_codons:\n",
    "                    orfs.append((i, j + 3))\n",
    "                    break\n",
    "    return orfs"
   ]
  },
  {
   "cell_type": "code",
   "execution_count": 158,
   "metadata": {},
   "outputs": [],
   "source": [
    "def longest_orf(orfs):\n",
    "    if not orfs:\n",
    "        return None\n",
    "    return max(orfs, key=lambda x: x[1] - x[0])"
   ]
  },
  {
   "cell_type": "code",
   "execution_count": 174,
   "metadata": {},
   "outputs": [
    {
     "name": "stdout",
     "output_type": "stream",
     "text": [
      "Longest ORF length: 1686\n",
      "Sequence ID with longest ORF: gi|142022655|gb|EQ086233.1|323\n",
      "Starting position of longest ORF: 2824\n"
     ]
    }
   ],
   "source": [
    "longest_orf_overall = None\n",
    "longest_orf_sequence_id = None\n",
    "\n",
    "# Loop through each sequence in the dataframe\n",
    "for index, row in df.iterrows():\n",
    "    sequence = row['Sequence']\n",
    "    sequence_id = row['Sequence ID']\n",
    "    \n",
    "    frame = 7\n",
    "    \n",
    "    orfs = find_orfs(sequence, frame)\n",
    "    longest_orf_current = longest_orf(orfs)\n",
    "    \n",
    "    if longest_orf_current:\n",
    "        if not longest_orf_overall or longest_orf_current[1] - longest_orf_current[0] > longest_orf_overall[1] - longest_orf_overall[0]:\n",
    "            longest_orf_overall = longest_orf_current\n",
    "            longest_orf_sequence_id = sequence_id\n",
    "\n",
    "if longest_orf_overall:\n",
    "    print(f\"Longest ORF length: {longest_orf_overall[1] - longest_orf_overall[0]}\")\n",
    "    print(f\"Sequence ID with longest ORF: {longest_orf_sequence_id}\")\n",
    "    print(f\"Starting position of longest ORF: {longest_orf_overall[0] + 1}\")\n",
    "else:\n",
    "    print(\"No ORFs found.\")"
   ]
  },
  {
   "cell_type": "markdown",
   "metadata": {},
   "source": [
    "#### Most Common Substrings"
   ]
  },
  {
   "cell_type": "code",
   "execution_count": 160,
   "metadata": {},
   "outputs": [],
   "source": [
    "def find_repeats(sequence, length, current_df):\n",
    "    # Create a dictionary to store the repeats and their counts\n",
    "    repeats = {}\n",
    "    \n",
    "    # Loop through the sequence, looking for repeats of the specified length and adding them to the repeats.\n",
    "    # If it already exists in the dictionary, increment the count.\n",
    "    for i in range(len(sequence) - length + 1):\n",
    "        repeat = sequence[i:i+length]\n",
    "        if repeat in repeats:\n",
    "            repeats[repeat] += 1\n",
    "        else:\n",
    "            repeats[repeat] = 1\n",
    "    \n",
    "    # Loop through the repeats dictionary and add the information to the dataframe.\n",
    "    # If it already exists in the dataframe, increment the count by the count in the repeats dictionary.\n",
    "    for repeat, count in repeats.items():\n",
    "        if current_df.empty:\n",
    "            current_df = pd.DataFrame({'Repeat': [repeat], 'Count': [count]})\n",
    "        else:\n",
    "            if repeat in current_df['Repeat'].values:\n",
    "                current_df.loc[current_df['Repeat'] == repeat, 'Count'] += count\n",
    "            else:\n",
    "                current_df = pd.concat([current_df, pd.DataFrame({'Repeat': [repeat], 'Count': [count]})], ignore_index=True)\n",
    "                \n",
    "    return current_df"
   ]
  },
  {
   "cell_type": "code",
   "execution_count": 178,
   "metadata": {},
   "outputs": [
    {
     "name": "stdout",
     "output_type": "stream",
     "text": [
      "Sequence ID: gi|142022655|gb|EQ086233.1|43\n",
      "Sequence ID: gi|142022655|gb|EQ086233.1|160\n",
      "Sequence ID: gi|142022655|gb|EQ086233.1|41\n",
      "Sequence ID: gi|142022655|gb|EQ086233.1|221\n",
      "Sequence ID: gi|142022655|gb|EQ086233.1|294\n",
      "Sequence ID: gi|142022655|gb|EQ086233.1|323\n",
      "Sequence ID: gi|142022655|gb|EQ086233.1|564\n",
      "Sequence ID: gi|142022655|gb|EQ086233.1|521\n",
      "Sequence ID: gi|142022655|gb|EQ086233.1|455\n",
      "Sequence ID: gi|142022655|gb|EQ086233.1|229\n",
      "Sequence ID: gi|142022655|gb|EQ086233.1|422\n",
      "Sequence ID: gi|142022655|gb|EQ086233.1|384\n",
      "Sequence ID: gi|142022655|gb|EQ086233.1|280\n",
      "Sequence ID: gi|142022655|gb|EQ086233.1|158\n",
      "Sequence ID: gi|142022655|gb|EQ086233.1|59\n",
      "Sequence ID: gi|142022655|gb|EQ086233.1|319\n",
      "Sequence ID: gi|142022655|gb|EQ086233.1|438\n",
      "Sequence ID: gi|142022655|gb|EQ086233.1|210\n",
      "Sequence ID: gi|142022655|gb|EQ086233.1|237\n",
      "Sequence ID: gi|142022655|gb|EQ086233.1|507\n",
      "Sequence ID: gi|142022655|gb|EQ086233.1|350\n",
      "Sequence ID: gi|142022655|gb|EQ086233.1|245\n",
      "Sequence ID: gi|142022655|gb|EQ086233.1|279\n",
      "Sequence ID: gi|142022655|gb|EQ086233.1|378\n",
      "Sequence ID: gi|142022655|gb|EQ086233.1|101\n"
     ]
    }
   ],
   "source": [
    "# Create a dataframe that is passed to the function for repeated substrings\n",
    "# Should record combinations of nucleotides, IE ATC, ACG, etc. (depending on length of substring)\n",
    "substrings = pd.DataFrame(columns=['Sequence', 'Count'])\n",
    "\n",
    "# Frame for the repeated substrings\n",
    "frame2 = 12\n",
    "\n",
    "# Loop through each sequence in the dataframe\n",
    "for index, row in df.iterrows():\n",
    "    sequence = row['Sequence']\n",
    "    sequence_id = row['Sequence ID']\n",
    "    \n",
    "    if frame2 != 0:\n",
    "        print(\"Sequence ID:\", sequence_id)\n",
    "        substrings = find_repeats(sequence, frame2, substrings)\n",
    "    else:\n",
    "        for length in range(3, 7):\n",
    "            # Print out the Sequence # and the Length of the Substring\n",
    "            print(\"Sequence #:\", index + 1, \"Length of Substring:\", length)\n",
    "            \n",
    "            # Find the repeated substrings\n",
    "            substrings = find_repeats(sequence, length, substrings)"
   ]
  },
  {
   "cell_type": "code",
   "execution_count": 176,
   "metadata": {},
   "outputs": [
    {
     "data": {
      "text/html": [
       "<div>\n",
       "<style scoped>\n",
       "    .dataframe tbody tr th:only-of-type {\n",
       "        vertical-align: middle;\n",
       "    }\n",
       "\n",
       "    .dataframe tbody tr th {\n",
       "        vertical-align: top;\n",
       "    }\n",
       "\n",
       "    .dataframe thead th {\n",
       "        text-align: right;\n",
       "    }\n",
       "</style>\n",
       "<table border=\"1\" class=\"dataframe\">\n",
       "  <thead>\n",
       "    <tr style=\"text-align: right;\">\n",
       "      <th></th>\n",
       "      <th>Repeat</th>\n",
       "      <th>Count</th>\n",
       "    </tr>\n",
       "  </thead>\n",
       "  <tbody>\n",
       "    <tr>\n",
       "      <th>160</th>\n",
       "      <td>CGGCGC</td>\n",
       "      <td>167</td>\n",
       "    </tr>\n",
       "    <tr>\n",
       "      <th>994</th>\n",
       "      <td>CGCGCG</td>\n",
       "      <td>149</td>\n",
       "    </tr>\n",
       "    <tr>\n",
       "      <th>159</th>\n",
       "      <td>GCGGCG</td>\n",
       "      <td>144</td>\n",
       "    </tr>\n",
       "    <tr>\n",
       "      <th>1473</th>\n",
       "      <td>GCCGGC</td>\n",
       "      <td>141</td>\n",
       "    </tr>\n",
       "    <tr>\n",
       "      <th>402</th>\n",
       "      <td>GCGCGC</td>\n",
       "      <td>141</td>\n",
       "    </tr>\n",
       "    <tr>\n",
       "      <th>...</th>\n",
       "      <td>...</td>\n",
       "      <td>...</td>\n",
       "    </tr>\n",
       "    <tr>\n",
       "      <th>3544</th>\n",
       "      <td>GCTTAG</td>\n",
       "      <td>1</td>\n",
       "    </tr>\n",
       "    <tr>\n",
       "      <th>3540</th>\n",
       "      <td>ACTTTA</td>\n",
       "      <td>1</td>\n",
       "    </tr>\n",
       "    <tr>\n",
       "      <th>3536</th>\n",
       "      <td>GAGTAA</td>\n",
       "      <td>1</td>\n",
       "    </tr>\n",
       "    <tr>\n",
       "      <th>3530</th>\n",
       "      <td>TGGAGT</td>\n",
       "      <td>1</td>\n",
       "    </tr>\n",
       "    <tr>\n",
       "      <th>3863</th>\n",
       "      <td>TAGTAG</td>\n",
       "      <td>1</td>\n",
       "    </tr>\n",
       "  </tbody>\n",
       "</table>\n",
       "<p>3864 rows × 2 columns</p>\n",
       "</div>"
      ],
      "text/plain": [
       "      Repeat  Count\n",
       "160   CGGCGC    167\n",
       "994   CGCGCG    149\n",
       "159   GCGGCG    144\n",
       "1473  GCCGGC    141\n",
       "402   GCGCGC    141\n",
       "...      ...    ...\n",
       "3544  GCTTAG      1\n",
       "3540  ACTTTA      1\n",
       "3536  GAGTAA      1\n",
       "3530  TGGAGT      1\n",
       "3863  TAGTAG      1\n",
       "\n",
       "[3864 rows x 2 columns]"
      ]
     },
     "execution_count": 176,
     "metadata": {},
     "output_type": "execute_result"
    }
   ],
   "source": [
    "# Order the dataframe by the count of the repeated substrings\n",
    "substrings = substrings.sort_values(by='Count', ascending=False)\n",
    "substrings"
   ]
  },
  {
   "cell_type": "code",
   "execution_count": 177,
   "metadata": {},
   "outputs": [
    {
     "name": "stdout",
     "output_type": "stream",
     "text": [
      "The substring(s) that was repeated the most is/are:\n",
      "     Repeat  Count\n",
      "160  CGGCGC    167\n"
     ]
    }
   ],
   "source": [
    "# Print out the substring that was repeated the most. If there are multiple, print all of them.\n",
    "max_count = substrings['Count'].max()\n",
    "print(\"The substring(s) that was repeated the most is/are:\")\n",
    "print(substrings[substrings['Count'] == max_count])\n",
    "\n",
    "# Do the same with minimum\n",
    "# min_count = substrings['Count'].min()\n",
    "# print(\"The substring(s) that was repeated the least is/are:\")\n",
    "# print(substrings[substrings['Count'] == min_count])"
   ]
  }
 ],
 "metadata": {
  "kernelspec": {
   "display_name": "Python 3",
   "language": "python",
   "name": "python3"
  },
  "language_info": {
   "codemirror_mode": {
    "name": "ipython",
    "version": 3
   },
   "file_extension": ".py",
   "mimetype": "text/x-python",
   "name": "python",
   "nbconvert_exporter": "python",
   "pygments_lexer": "ipython3",
   "version": "3.11.6"
  }
 },
 "nbformat": 4,
 "nbformat_minor": 2
}
